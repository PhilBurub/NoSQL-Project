{
 "cells": [
  {
   "cell_type": "code",
   "execution_count": 1,
   "id": "a9f0f09c",
   "metadata": {},
   "outputs": [],
   "source": [
    "from neo4j import GraphDatabase, Result\n",
    "import random\n",
    "import pyvis\n",
    "import networkx as nx\n",
    "from IPython.display import display, HTML\n",
    "from pathlib import Path\n",
    "from string import ascii_uppercase, ascii_lowercase\n",
    "import datetime\n",
    "import time\n",
    "import json\n",
    "from pathlib import Path\n",
    "from tqdm import tqdm\n",
    "import pandas as pd"
   ]
  },
  {
   "cell_type": "markdown",
   "id": "243a3a47",
   "metadata": {},
   "source": [
    "# 0. Генерация синтетических данных"
   ]
  },
  {
   "cell_type": "markdown",
   "id": "85782782",
   "metadata": {},
   "source": [
    "#### Описание данных\n",
    "Есть 3 типа сущностей:\n",
    "1. Исследователи. У исследоваетелй есть уникальное имя, организация и возраст\n",
    "2. Носители. У носителей есть уникальный четырёхбуквенный код, возраст, гендер и родной город\n",
    "3. Записи. У записей есть уникальный id, длина, дата и место\n",
    "\n",
    "Есть 5 типов связи:\n",
    "1. Записал (исследователь -> запись)\n",
    "2. Был записан (носитель -> запись)\n",
    "3. Родственник (носитель -> носитель), 2 типа: родитель и ребёнок\n",
    "4. Руководит (исследователь -> исследователь)\n",
    "5. Руководим (исследователь -> исследователь)"
   ]
  },
  {
   "cell_type": "markdown",
   "id": "5f6103b3",
   "metadata": {},
   "source": [
    "```python\n",
    "getname = lambda: ''.join(random.choices(ascii_lowercase, k=random.randint(4,10))).capitalize()\n",
    "getcode = lambda: ''.join(random.choices(ascii_uppercase, k=4))\n",
    "getage = lambda: random.randint(18, 59)\n",
    "gender = lambda: random.choices(['m', 'f', 'n'], weights=[0.45, 0.45, 0.1], k=1)[0]\n",
    "getcity = lambda: random.choice(ascii_uppercase)\n",
    "getid = lambda: random.randint(0, 99999)\n",
    "getlen = lambda: random.randint(30, 5 * 3600)\n",
    "getorg = lambda: ''.join(random.choices(ascii_uppercase, k=2))\n",
    "getdate = lambda: datetime.date.fromordinal(random.randint(736299, 738946)).strftime('%d.%m.%Y')\n",
    "```"
   ]
  },
  {
   "cell_type": "markdown",
   "id": "ee74bd14",
   "metadata": {},
   "source": [
    "```python\n",
    "researchers = {}\n",
    "recordings = {}\n",
    "speakers = {}\n",
    "recorded = set()\n",
    "was_recorded = set()\n",
    "related = set()\n",
    "tutors = set()\n",
    "```"
   ]
  },
  {
   "cell_type": "markdown",
   "id": "829533aa",
   "metadata": {},
   "source": [
    "```python\n",
    "while len(researchers) < 10:\n",
    "    name = getname()\n",
    "    researchers[name] = {'name': name, 'age': getage(), 'organisation': getorg()}\n",
    "\n",
    "while len(recordings) < 50:\n",
    "    id_ = getid()\n",
    "    recordings[id_] = {'id': id_, 'location': getcity(), 'date': getdate(), 'length': getlen()}\n",
    "\n",
    "while len(speakers) < 20:\n",
    "    code = getcode()\n",
    "    speakers[code] = {'code': code, 'age': getage(), 'born in': getcity(), 'gender': gender()}\n",
    "```"
   ]
  },
  {
   "cell_type": "markdown",
   "id": "a612fa3d",
   "metadata": {},
   "source": [
    "```python\n",
    "researchers_list = sorted(researchers)\n",
    "recordings_list = sorted(recordings)\n",
    "speakers_list = sorted(speakers)\n",
    "```"
   ]
  },
  {
   "cell_type": "markdown",
   "id": "2d12e3e3",
   "metadata": {},
   "source": [
    "```python\n",
    "while len(recorded) < 50:\n",
    "    recorded.update([(random.choice(researchers_list), random.choice(recordings_list))])\n",
    "\n",
    "while len(was_recorded) < 70:\n",
    "    was_recorded.update([(random.choice(speakers_list), random.choice(recordings_list))])\n",
    "\n",
    "while len(related) < 10:\n",
    "    related.update([tuple(random.sample(speakers_list, 2))])\n",
    "\n",
    "while len(tutors) < 4:\n",
    "    tutors.update([tuple(random.sample(researchers_list, 2))])\n",
    "```"
   ]
  },
  {
   "cell_type": "markdown",
   "id": "f11f83f5",
   "metadata": {},
   "source": [
    "```python\n",
    "json_data = {\n",
    "    'researchers': list(researchers.values()),\n",
    "    'recordings': list(recordings.values()),\n",
    "    'speakers': list(speakers.values()),\n",
    "    'recorded': list(recorded),\n",
    "    'was_recorded': list(was_recorded),\n",
    "    'related': list(related),\n",
    "    'tutors': list(tutors)\n",
    "}\n",
    "```"
   ]
  },
  {
   "cell_type": "markdown",
   "id": "bb4d2df4",
   "metadata": {},
   "source": [
    "```python\n",
    "json.dump(json_data, Path('data.json').open(encoding='utf-8', mode='w'), indent='\\t')\n",
    "```"
   ]
  },
  {
   "cell_type": "markdown",
   "id": "90efc71e",
   "metadata": {},
   "source": [
    "# 1. Подключение к БД"
   ]
  },
  {
   "cell_type": "code",
   "execution_count": 2,
   "id": "0d3f85d4",
   "metadata": {},
   "outputs": [],
   "source": [
    "URI = \"neo4j://localhost:7687\"\n",
    "AUTH = (\"neo4j\", \"password\")"
   ]
  },
  {
   "cell_type": "code",
   "execution_count": 3,
   "id": "163c4d12",
   "metadata": {},
   "outputs": [],
   "source": [
    "driver = GraphDatabase.driver(URI, auth=AUTH)"
   ]
  },
  {
   "cell_type": "code",
   "execution_count": 4,
   "id": "bd5bd6e6",
   "metadata": {},
   "outputs": [
    {
     "data": {
      "text/plain": [
       "EagerResult(records=[], summary=<neo4j._work.summary.ResultSummary object at 0x0000023E3085F650>, keys=[])"
      ]
     },
     "execution_count": 4,
     "metadata": {},
     "output_type": "execute_result"
    }
   ],
   "source": [
    "driver.execute_query('''MATCH (n) DETACH DELETE n''')"
   ]
  },
  {
   "cell_type": "markdown",
   "id": "d1e8048a",
   "metadata": {},
   "source": [
    "# 2. Запись данных"
   ]
  },
  {
   "cell_type": "markdown",
   "id": "66ca1e4f",
   "metadata": {},
   "source": [
    "## 2.1. Функции"
   ]
  },
  {
   "cell_type": "code",
   "execution_count": 5,
   "id": "412e659d",
   "metadata": {},
   "outputs": [],
   "source": [
    "write_name = lambda name: name if len(name.split()) == 1 else f'`{name}`'"
   ]
  },
  {
   "cell_type": "code",
   "execution_count": 6,
   "id": "f8caf6d3",
   "metadata": {},
   "outputs": [],
   "source": [
    "def write_params(parameters):\n",
    "    if len(parameters) == 0:\n",
    "        return ''\n",
    "    key_arguments = []\n",
    "    for key, value in parameters.items():\n",
    "        out_value = value if not isinstance(value, str) else f'\"{value}\"'\n",
    "        key_arguments.append(f'{write_name(key)}: {out_value}')\n",
    "    return ' {' + ', '.join(key_arguments) + '}'"
   ]
  },
  {
   "cell_type": "code",
   "execution_count": 7,
   "id": "08239edb",
   "metadata": {},
   "outputs": [],
   "source": [
    "def write_node(nodetype, parameters, driver=driver):\n",
    "    driver.execute_query(f'CREATE (n:{write_name(nodetype)}{write_params(parameters)})')"
   ]
  },
  {
   "cell_type": "code",
   "execution_count": 8,
   "id": "99a0552b",
   "metadata": {},
   "outputs": [],
   "source": [
    "def write_link(nodetype_from, nodetype_to, node_identify_from, node_identify_to, link_type, link_parameters={}, driver=driver):\n",
    "    driver.execute_query(f'''\n",
    "    MATCH (n1:{write_name(nodetype_from)}{write_params(node_identify_from)}),\n",
    "    (n2:{write_name(nodetype_to)}{write_params(node_identify_to)})\n",
    "    CREATE (n1)-[:{write_name(link_type)}{write_params(link_parameters)}]->(n2)\n",
    "    ''')"
   ]
  },
  {
   "cell_type": "markdown",
   "id": "e9bbed9e",
   "metadata": {},
   "source": [
    "## 2.2. Конфигурация и запись"
   ]
  },
  {
   "cell_type": "code",
   "execution_count": 9,
   "id": "db52a045",
   "metadata": {},
   "outputs": [],
   "source": [
    "data = json.load(Path('data.json').open(encoding='utf-8'))"
   ]
  },
  {
   "cell_type": "code",
   "execution_count": 10,
   "id": "42e996d4",
   "metadata": {},
   "outputs": [
    {
     "name": "stderr",
     "output_type": "stream",
     "text": [
      "100%|██████████| 10/10 [00:00<00:00, 135.77it/s]\n",
      "100%|██████████| 50/50 [00:00<00:00, 139.31it/s]\n",
      "100%|██████████| 20/20 [00:00<00:00, 133.29it/s]\n",
      "100%|██████████| 50/50 [00:00<00:00, 129.43it/s]\n",
      "100%|██████████| 69/69 [00:00<00:00, 115.34it/s]\n",
      "100%|██████████| 10/10 [00:00<00:00, 60.94it/s]\n",
      "100%|██████████| 4/4 [00:00<00:00, 63.45it/s]\n"
     ]
    }
   ],
   "source": [
    "for res in tqdm(data['researchers']):\n",
    "    write_node('Researcher', res)\n",
    "\n",
    "for rec in tqdm(data['recordings']):\n",
    "    rec['date'] = rec['date'][-4:] + '-' + rec['date'][-7:-5] + '-' + rec['date'][:2]\n",
    "    write_node('Recording', rec)\n",
    "\n",
    "for speaker in tqdm(data['speakers']):\n",
    "    write_node('Speaker', speaker)\n",
    "\n",
    "for researcher, recording in tqdm(data['recorded']):\n",
    "    write_link('Researcher', 'Recording', {'name': researcher}, {'id': recording}, 'recorded')\n",
    "\n",
    "for speaker, recording in tqdm(data['was_recorded']):\n",
    "    write_link('Speaker', 'Recording', {'code': speaker}, {'id': recording}, 'was_recorded')\n",
    "\n",
    "for speaker_1, speaker_2 in tqdm(data['related']):\n",
    "    write_link('Speaker', 'Speaker', {'code': speaker_1}, {'code': speaker_2}, 'related', {'type': 'parent'})\n",
    "    write_link('Speaker', 'Speaker', {'code': speaker_2}, {'code': speaker_1}, 'related', {'type': 'child'})\n",
    "\n",
    "for researcher_1, researcher_2 in tqdm(data['tutors']):\n",
    "    write_link('Researcher', 'Researcher', {'name': researcher_1}, {'name': researcher_2}, 'tutors')\n",
    "    write_link('Researcher', 'Researcher', {'name': researcher_2}, {'name': researcher_1}, 'tutored by')"
   ]
  },
  {
   "cell_type": "markdown",
   "id": "3bb31778",
   "metadata": {},
   "source": [
    "# 3. Чтение результатов"
   ]
  },
  {
   "cell_type": "code",
   "execution_count": 11,
   "id": "fdd34d58",
   "metadata": {},
   "outputs": [],
   "source": [
    "nodes_text_properties = {'Speaker': 'code', 'Recording': 'id', 'Researcher': 'name'}\n",
    "graph_folder = Path('./graphs/')"
   ]
  },
  {
   "cell_type": "code",
   "execution_count": 12,
   "id": "44717365",
   "metadata": {},
   "outputs": [],
   "source": [
    "def visualize_result(query_graph, nodes_text_properties=nodes_text_properties, graph_folder=graph_folder):\n",
    "    visual_graph = pyvis.network.Network(notebook=True, cdn_resources='remote', directed=True)\n",
    "\n",
    "    for node in query_graph.nodes:\n",
    "        node_label = list(node.labels)[0]\n",
    "        node_text = node[nodes_text_properties[node_label]]\n",
    "        visual_graph.add_node(node.element_id, str(node_text), group=node_label)\n",
    "\n",
    "    for relationship in query_graph.relationships:\n",
    "        visual_graph.add_edge(\n",
    "            relationship.start_node.element_id,\n",
    "            relationship.end_node.element_id,\n",
    "            title=relationship.type\n",
    "        )\n",
    "    if not graph_folder.exists():\n",
    "        graph_folder.mkdir()\n",
    "    return visual_graph.show(graph_folder.joinpath(f'result_{time.time_ns() // 100 % 10**8}.html').__fspath__(), \n",
    "                             notebook=True)"
   ]
  },
  {
   "cell_type": "code",
   "execution_count": 13,
   "id": "d80302ee",
   "metadata": {},
   "outputs": [],
   "source": [
    "def get_db_graph(driver=driver):\n",
    "    db_graph = driver.execute_query('''MATCH (n), (n1)-[r]->(n2) RETURN n, n1, n2, r''', result_transformer_=Result.graph)\n",
    "    return db_graph"
   ]
  },
  {
   "cell_type": "code",
   "execution_count": 14,
   "id": "350b1e63",
   "metadata": {
    "scrolled": false
   },
   "outputs": [
    {
     "name": "stdout",
     "output_type": "stream",
     "text": [
      "graphs\\result_1469218.html\n"
     ]
    },
    {
     "data": {
      "text/html": [
       "\n",
       "        <iframe\n",
       "            width=\"100%\"\n",
       "            height=\"600px\"\n",
       "            src=\"graphs\\result_1469218.html\"\n",
       "            frameborder=\"0\"\n",
       "            allowfullscreen\n",
       "            \n",
       "        ></iframe>\n",
       "        "
      ],
      "text/plain": [
       "<IPython.lib.display.IFrame at 0x23e3104fe10>"
      ]
     },
     "execution_count": 14,
     "metadata": {},
     "output_type": "execute_result"
    }
   ],
   "source": [
    "visualize_result(get_db_graph())"
   ]
  },
  {
   "cell_type": "markdown",
   "id": "9eb5a4e1",
   "metadata": {},
   "source": [
    "# 4. Удаление"
   ]
  },
  {
   "cell_type": "markdown",
   "id": "f4a21426",
   "metadata": {},
   "source": [
    "Удаляю те записи, которые ни с кем не связаны"
   ]
  },
  {
   "cell_type": "code",
   "execution_count": 15,
   "id": "ab53e9db",
   "metadata": {
    "scrolled": false
   },
   "outputs": [
    {
     "name": "stdout",
     "output_type": "stream",
     "text": [
      "graphs\\result_23048912.html\n"
     ]
    },
    {
     "data": {
      "text/html": [
       "\n",
       "        <iframe\n",
       "            width=\"100%\"\n",
       "            height=\"600px\"\n",
       "            src=\"graphs\\result_23048912.html\"\n",
       "            frameborder=\"0\"\n",
       "            allowfullscreen\n",
       "            \n",
       "        ></iframe>\n",
       "        "
      ],
      "text/plain": [
       "<IPython.lib.display.IFrame at 0x23e30ebbd90>"
      ]
     },
     "execution_count": 15,
     "metadata": {},
     "output_type": "execute_result"
    }
   ],
   "source": [
    "driver.execute_query('''\n",
    "MATCH (rec:Recording) \n",
    "WHERE NOT (rec)<-[]-() \n",
    "DELETE rec\n",
    "''')\n",
    "visualize_result(get_db_graph())"
   ]
  },
  {
   "cell_type": "markdown",
   "id": "514d3eae",
   "metadata": {},
   "source": [
    "# 5. Обновление"
   ]
  },
  {
   "cell_type": "markdown",
   "id": "618b677a",
   "metadata": {},
   "source": [
    "В случае, если есть связь руководитель - руководимый, назначаю первому позицию \"профессор\", а второму -- студент"
   ]
  },
  {
   "cell_type": "code",
   "execution_count": 16,
   "id": "ca60a92e",
   "metadata": {},
   "outputs": [
    {
     "data": {
      "text/plain": [
       "EagerResult(records=[], summary=<neo4j._work.summary.ResultSummary object at 0x0000023E30EB8F50>, keys=[])"
      ]
     },
     "execution_count": 16,
     "metadata": {},
     "output_type": "execute_result"
    }
   ],
   "source": [
    "driver.execute_query('''\n",
    "MATCH (prof:Researcher)-[:tutors]->(student:Researcher)\n",
    "SET prof.position = 'professor', student.position = 'student'\n",
    "''')"
   ]
  },
  {
   "cell_type": "code",
   "execution_count": 17,
   "id": "97725390",
   "metadata": {
    "scrolled": false
   },
   "outputs": [
    {
     "name": "stdout",
     "output_type": "stream",
     "text": [
      "graphs\\result_23517179.html\n"
     ]
    },
    {
     "data": {
      "text/html": [
       "\n",
       "        <iframe\n",
       "            width=\"100%\"\n",
       "            height=\"600px\"\n",
       "            src=\"graphs\\result_23517179.html\"\n",
       "            frameborder=\"0\"\n",
       "            allowfullscreen\n",
       "            \n",
       "        ></iframe>\n",
       "        "
      ],
      "text/plain": [
       "<IPython.lib.display.IFrame at 0x23e310640d0>"
      ]
     },
     "execution_count": 17,
     "metadata": {},
     "output_type": "execute_result"
    }
   ],
   "source": [
    "result_graph = driver.execute_query('''\n",
    "MATCH (student:Researcher {position: 'student'})-[rel]-(any)\n",
    "RETURN student, rel, any \n",
    "''', result_transformer_=Result.graph)\n",
    "visualize_result(result_graph)"
   ]
  },
  {
   "cell_type": "markdown",
   "id": "4fa0490d",
   "metadata": {},
   "source": [
    "# 6. Поиск элемента"
   ]
  },
  {
   "cell_type": "markdown",
   "id": "97203f31",
   "metadata": {},
   "source": [
    "Найдем братьев/сестёр среди носителей"
   ]
  },
  {
   "cell_type": "code",
   "execution_count": 18,
   "id": "3dbb2cd7",
   "metadata": {},
   "outputs": [
    {
     "name": "stdout",
     "output_type": "stream",
     "text": [
      "graphs\\result_23991410.html\n"
     ]
    },
    {
     "data": {
      "text/html": [
       "\n",
       "        <iframe\n",
       "            width=\"100%\"\n",
       "            height=\"600px\"\n",
       "            src=\"graphs\\result_23991410.html\"\n",
       "            frameborder=\"0\"\n",
       "            allowfullscreen\n",
       "            \n",
       "        ></iframe>\n",
       "        "
      ],
      "text/plain": [
       "<IPython.lib.display.IFrame at 0x23e2d2c2050>"
      ]
     },
     "execution_count": 18,
     "metadata": {},
     "output_type": "execute_result"
    }
   ],
   "source": [
    "result_graph = driver.execute_query('''\n",
    "MATCH (child_1)-[rel_1:related {type: 'child'}]->(parent), (child_2)-[rel_2:related {type: 'child'}]->(parent)\n",
    "RETURN child_1, child_2, parent, rel_1, rel_2\n",
    "''', result_transformer_=Result.graph)\n",
    "visualize_result(result_graph)"
   ]
  },
  {
   "cell_type": "markdown",
   "id": "3c696194",
   "metadata": {},
   "source": [
    "# 7. Сортировка"
   ]
  },
  {
   "cell_type": "markdown",
   "id": "6b9941ba",
   "metadata": {},
   "source": [
    "Выберу записи, сделанные в период с 01.01.2020 до 31.12.2022 и отсортирую по длине"
   ]
  },
  {
   "cell_type": "code",
   "execution_count": 19,
   "id": "fde09eb1",
   "metadata": {},
   "outputs": [
    {
     "data": {
      "text/html": [
       "<div>\n",
       "<style scoped>\n",
       "    .dataframe tbody tr th:only-of-type {\n",
       "        vertical-align: middle;\n",
       "    }\n",
       "\n",
       "    .dataframe tbody tr th {\n",
       "        vertical-align: top;\n",
       "    }\n",
       "\n",
       "    .dataframe thead th {\n",
       "        text-align: right;\n",
       "    }\n",
       "</style>\n",
       "<table border=\"1\" class=\"dataframe\">\n",
       "  <thead>\n",
       "    <tr style=\"text-align: right;\">\n",
       "      <th></th>\n",
       "      <th>date</th>\n",
       "      <th>length</th>\n",
       "      <th>location</th>\n",
       "      <th>id</th>\n",
       "    </tr>\n",
       "  </thead>\n",
       "  <tbody>\n",
       "    <tr>\n",
       "      <th>0</th>\n",
       "      <td>2020-03-21</td>\n",
       "      <td>157</td>\n",
       "      <td>K</td>\n",
       "      <td>4797</td>\n",
       "    </tr>\n",
       "    <tr>\n",
       "      <th>1</th>\n",
       "      <td>2022-08-11</td>\n",
       "      <td>778</td>\n",
       "      <td>H</td>\n",
       "      <td>65919</td>\n",
       "    </tr>\n",
       "    <tr>\n",
       "      <th>2</th>\n",
       "      <td>2022-05-07</td>\n",
       "      <td>5909</td>\n",
       "      <td>R</td>\n",
       "      <td>22487</td>\n",
       "    </tr>\n",
       "    <tr>\n",
       "      <th>3</th>\n",
       "      <td>2020-01-20</td>\n",
       "      <td>6117</td>\n",
       "      <td>U</td>\n",
       "      <td>38784</td>\n",
       "    </tr>\n",
       "    <tr>\n",
       "      <th>4</th>\n",
       "      <td>2022-02-15</td>\n",
       "      <td>7109</td>\n",
       "      <td>D</td>\n",
       "      <td>52571</td>\n",
       "    </tr>\n",
       "    <tr>\n",
       "      <th>5</th>\n",
       "      <td>2020-06-07</td>\n",
       "      <td>7269</td>\n",
       "      <td>Q</td>\n",
       "      <td>30654</td>\n",
       "    </tr>\n",
       "    <tr>\n",
       "      <th>6</th>\n",
       "      <td>2021-07-14</td>\n",
       "      <td>8393</td>\n",
       "      <td>M</td>\n",
       "      <td>69253</td>\n",
       "    </tr>\n",
       "    <tr>\n",
       "      <th>7</th>\n",
       "      <td>2022-05-14</td>\n",
       "      <td>9799</td>\n",
       "      <td>R</td>\n",
       "      <td>53515</td>\n",
       "    </tr>\n",
       "    <tr>\n",
       "      <th>8</th>\n",
       "      <td>2022-03-11</td>\n",
       "      <td>11941</td>\n",
       "      <td>H</td>\n",
       "      <td>21468</td>\n",
       "    </tr>\n",
       "    <tr>\n",
       "      <th>9</th>\n",
       "      <td>2022-10-31</td>\n",
       "      <td>12995</td>\n",
       "      <td>L</td>\n",
       "      <td>23561</td>\n",
       "    </tr>\n",
       "    <tr>\n",
       "      <th>10</th>\n",
       "      <td>2022-02-18</td>\n",
       "      <td>14249</td>\n",
       "      <td>T</td>\n",
       "      <td>84050</td>\n",
       "    </tr>\n",
       "    <tr>\n",
       "      <th>11</th>\n",
       "      <td>2022-05-29</td>\n",
       "      <td>16037</td>\n",
       "      <td>W</td>\n",
       "      <td>60066</td>\n",
       "    </tr>\n",
       "    <tr>\n",
       "      <th>12</th>\n",
       "      <td>2020-04-08</td>\n",
       "      <td>16754</td>\n",
       "      <td>G</td>\n",
       "      <td>82716</td>\n",
       "    </tr>\n",
       "  </tbody>\n",
       "</table>\n",
       "</div>"
      ],
      "text/plain": [
       "          date  length location     id\n",
       "0   2020-03-21     157        K   4797\n",
       "1   2022-08-11     778        H  65919\n",
       "2   2022-05-07    5909        R  22487\n",
       "3   2020-01-20    6117        U  38784\n",
       "4   2022-02-15    7109        D  52571\n",
       "5   2020-06-07    7269        Q  30654\n",
       "6   2021-07-14    8393        M  69253\n",
       "7   2022-05-14    9799        R  53515\n",
       "8   2022-03-11   11941        H  21468\n",
       "9   2022-10-31   12995        L  23561\n",
       "10  2022-02-18   14249        T  84050\n",
       "11  2022-05-29   16037        W  60066\n",
       "12  2020-04-08   16754        G  82716"
      ]
     },
     "execution_count": 19,
     "metadata": {},
     "output_type": "execute_result"
    }
   ],
   "source": [
    "result = driver.execute_query('''\n",
    "MATCH (rec:Recording)\n",
    "WHERE date(rec.date) >= date('2020-01-01') AND date(rec.date) <= date('2022-12-31')\n",
    "RETURN rec\n",
    "ORDER BY rec.length\n",
    "''', result_transformer_=Result.data)\n",
    "pd.DataFrame([res['rec'] for res in result])"
   ]
  },
  {
   "cell_type": "markdown",
   "id": "fedaa19d",
   "metadata": {},
   "source": [
    "# 8. Агрегация"
   ]
  },
  {
   "cell_type": "markdown",
   "id": "f0f77222",
   "metadata": {},
   "source": [
    "Посчитаю средний возраст сотрудника ZL"
   ]
  },
  {
   "cell_type": "code",
   "execution_count": 20,
   "id": "f2302bb9",
   "metadata": {},
   "outputs": [
    {
     "data": {
      "text/plain": [
       "27.8"
      ]
     },
     "execution_count": 20,
     "metadata": {},
     "output_type": "execute_result"
    }
   ],
   "source": [
    "driver.execute_query('''\n",
    "MATCH (res:Researcher)\n",
    "WHERE res.organisation = 'ZL'\n",
    "RETURN avg(res.age)\n",
    "''', result_transformer_=Result.value)[0]"
   ]
  },
  {
   "cell_type": "markdown",
   "id": "668f4ada",
   "metadata": {},
   "source": [
    "# 9. Кратчайший путь"
   ]
  },
  {
   "cell_type": "markdown",
   "id": "98404302",
   "metadata": {},
   "source": [
    "Найду, как и через какого исседователя можно выйти на носителя AIYM, если не обращаться к молодым исследователям (моложе 30) и исследователям из ZL"
   ]
  },
  {
   "cell_type": "code",
   "execution_count": 21,
   "id": "09de9804",
   "metadata": {},
   "outputs": [
    {
     "name": "stdout",
     "output_type": "stream",
     "text": [
      "graphs\\result_25014296.html\n"
     ]
    },
    {
     "data": {
      "text/html": [
       "\n",
       "        <iframe\n",
       "            width=\"100%\"\n",
       "            height=\"600px\"\n",
       "            src=\"graphs\\result_25014296.html\"\n",
       "            frameborder=\"0\"\n",
       "            allowfullscreen\n",
       "            \n",
       "        ></iframe>\n",
       "        "
      ],
      "text/plain": [
       "<IPython.lib.display.IFrame at 0x23e30901750>"
      ]
     },
     "execution_count": 21,
     "metadata": {},
     "output_type": "execute_result"
    }
   ],
   "source": [
    "result_graph = driver.execute_query('''\n",
    "MATCH p = shortestPath((res:Researcher)-[link*]-(speaker:Speaker {code: 'AIYM'}))\n",
    "WHERE res.age > 30 and res.organisation <> 'ZL'\n",
    "RETURN p\n",
    "''', result_transformer_=Result.graph)\n",
    "visualize_result(result_graph)"
   ]
  },
  {
   "cell_type": "markdown",
   "id": "925b1082",
   "metadata": {},
   "source": [
    "# 10. Закрываю драйвер"
   ]
  },
  {
   "cell_type": "code",
   "execution_count": 22,
   "id": "98652b08",
   "metadata": {},
   "outputs": [],
   "source": [
    "driver.close()"
   ]
  },
  {
   "cell_type": "code",
   "execution_count": 23,
   "id": "64cb03d8",
   "metadata": {},
   "outputs": [],
   "source": [
    "# for file in graph_folder.iterdir():\n",
    "#     file.unlink()"
   ]
  }
 ],
 "metadata": {
  "kernelspec": {
   "display_name": "Python 3 (ipykernel)",
   "language": "python",
   "name": "python3"
  },
  "language_info": {
   "codemirror_mode": {
    "name": "ipython",
    "version": 3
   },
   "file_extension": ".py",
   "mimetype": "text/x-python",
   "name": "python",
   "nbconvert_exporter": "python",
   "pygments_lexer": "ipython3",
   "version": "3.11.5"
  }
 },
 "nbformat": 4,
 "nbformat_minor": 5
}
